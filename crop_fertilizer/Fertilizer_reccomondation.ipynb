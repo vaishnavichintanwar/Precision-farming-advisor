{
 "cells": [
  {
   "cell_type": "code",
   "execution_count": 1,
   "id": "68712fb2-b170-47c0-bcf7-12a845c8baf3",
   "metadata": {},
   "outputs": [],
   "source": [
    "import numpy as np\n",
    "import pandas as pd\n",
    "import matplotlib.pyplot as plt5\n",
    "\n",
    "import seaborn as sns"
   ]
  },
  {
   "cell_type": "code",
   "execution_count": 2,
   "id": "0ec641e7-417e-4a6b-aaf0-20d4e3bde15e",
   "metadata": {},
   "outputs": [],
   "source": [
    "from sklearn.linear_model import LogisticRegressionCV\n",
    "from sklearn.neighbors import KNeighborsClassifier\n",
    "from sklearn.tree import DecisionTreeClassifier\n",
    "from sklearn.ensemble import RandomForestClassifier\n",
    "from sklearn.ensemble import GradientBoostingClassifier\n",
    "from xgboost import XGBClassifier"
   ]
  },
  {
   "cell_type": "code",
   "execution_count": 3,
   "id": "e2d488fb-d5d4-4049-879b-f58d53234a4e",
   "metadata": {},
   "outputs": [],
   "source": [
    "from sklearn.model_selection import train_test_split\n",
    "from sklearn.metrics import accuracy_score,f1_score,precision_score,recall_score"
   ]
  },
  {
   "cell_type": "code",
   "execution_count": 4,
   "id": "b92b2e7b-aeb3-4e17-9b5a-a5260144cc50",
   "metadata": {},
   "outputs": [],
   "source": [
    "import warnings\n",
    "warnings.filterwarnings(\"ignore\")"
   ]
  },
  {
   "cell_type": "code",
   "execution_count": 5,
   "id": "062e7178-e036-4fca-96b9-e67c8bcadf6e",
   "metadata": {},
   "outputs": [],
   "source": [
    "#df = pd.read_csv('/home/user/Documents/project_we/Precision_farming_final/Fertilizer_Prediction.csv')\n",
    "df = pd.read_csv('/home/user/Documents/Project_PF/crop_fertilizer/Fertilizer_Prediction.csv')"
   ]
  },
  {
   "cell_type": "code",
   "execution_count": 6,
   "id": "6526eee1-aca5-462d-b9bf-c0a365b4f867",
   "metadata": {},
   "outputs": [
    {
     "data": {
      "text/html": [
       "<div>\n",
       "<style scoped>\n",
       "    .dataframe tbody tr th:only-of-type {\n",
       "        vertical-align: middle;\n",
       "    }\n",
       "\n",
       "    .dataframe tbody tr th {\n",
       "        vertical-align: top;\n",
       "    }\n",
       "\n",
       "    .dataframe thead th {\n",
       "        text-align: right;\n",
       "    }\n",
       "</style>\n",
       "<table border=\"1\" class=\"dataframe\">\n",
       "  <thead>\n",
       "    <tr style=\"text-align: right;\">\n",
       "      <th></th>\n",
       "      <th>Temperature</th>\n",
       "      <th>Humidity</th>\n",
       "      <th>Rainfall</th>\n",
       "      <th>pH</th>\n",
       "      <th>N</th>\n",
       "      <th>P</th>\n",
       "      <th>K</th>\n",
       "      <th>Soil</th>\n",
       "      <th>Crop</th>\n",
       "      <th>Fertilizer</th>\n",
       "    </tr>\n",
       "  </thead>\n",
       "  <tbody>\n",
       "    <tr>\n",
       "      <th>0</th>\n",
       "      <td>24.87</td>\n",
       "      <td>82.84</td>\n",
       "      <td>295.61</td>\n",
       "      <td>6.59</td>\n",
       "      <td>4.0</td>\n",
       "      <td>2.0</td>\n",
       "      <td>2.5</td>\n",
       "      <td>Clayey</td>\n",
       "      <td>rice</td>\n",
       "      <td>DAP and MOP</td>\n",
       "    </tr>\n",
       "    <tr>\n",
       "      <th>1</th>\n",
       "      <td>28.69</td>\n",
       "      <td>96.65</td>\n",
       "      <td>178.96</td>\n",
       "      <td>6.08</td>\n",
       "      <td>4.0</td>\n",
       "      <td>4.0</td>\n",
       "      <td>4.0</td>\n",
       "      <td>laterite</td>\n",
       "      <td>Coconut</td>\n",
       "      <td>Good NPK</td>\n",
       "    </tr>\n",
       "    <tr>\n",
       "      <th>2</th>\n",
       "      <td>20.27</td>\n",
       "      <td>81.64</td>\n",
       "      <td>270.44</td>\n",
       "      <td>5.01</td>\n",
       "      <td>4.0</td>\n",
       "      <td>4.0</td>\n",
       "      <td>2.0</td>\n",
       "      <td>silty clay</td>\n",
       "      <td>rice</td>\n",
       "      <td>MOP</td>\n",
       "    </tr>\n",
       "    <tr>\n",
       "      <th>3</th>\n",
       "      <td>25.07</td>\n",
       "      <td>95.02</td>\n",
       "      <td>192.90</td>\n",
       "      <td>5.55</td>\n",
       "      <td>2.0</td>\n",
       "      <td>2.1</td>\n",
       "      <td>3.5</td>\n",
       "      <td>sandy</td>\n",
       "      <td>Coconut</td>\n",
       "      <td>Urea and DAP</td>\n",
       "    </tr>\n",
       "    <tr>\n",
       "      <th>4</th>\n",
       "      <td>25.04</td>\n",
       "      <td>95.90</td>\n",
       "      <td>174.80</td>\n",
       "      <td>6.18</td>\n",
       "      <td>2.0</td>\n",
       "      <td>3.9</td>\n",
       "      <td>2.1</td>\n",
       "      <td>coastal</td>\n",
       "      <td>Coconut</td>\n",
       "      <td>Urea and MOP</td>\n",
       "    </tr>\n",
       "    <tr>\n",
       "      <th>...</th>\n",
       "      <td>...</td>\n",
       "      <td>...</td>\n",
       "      <td>...</td>\n",
       "      <td>...</td>\n",
       "      <td>...</td>\n",
       "      <td>...</td>\n",
       "      <td>...</td>\n",
       "      <td>...</td>\n",
       "      <td>...</td>\n",
       "      <td>...</td>\n",
       "    </tr>\n",
       "    <tr>\n",
       "      <th>195</th>\n",
       "      <td>23.58</td>\n",
       "      <td>83.59</td>\n",
       "      <td>291.30</td>\n",
       "      <td>5.85</td>\n",
       "      <td>4.0</td>\n",
       "      <td>2.0</td>\n",
       "      <td>3.0</td>\n",
       "      <td>silty clay</td>\n",
       "      <td>rice</td>\n",
       "      <td>DAP</td>\n",
       "    </tr>\n",
       "    <tr>\n",
       "      <th>196</th>\n",
       "      <td>25.66</td>\n",
       "      <td>83.47</td>\n",
       "      <td>217.38</td>\n",
       "      <td>7.12</td>\n",
       "      <td>2.0</td>\n",
       "      <td>3.9</td>\n",
       "      <td>2.1</td>\n",
       "      <td>Clayey</td>\n",
       "      <td>rice</td>\n",
       "      <td>Urea and MOP</td>\n",
       "    </tr>\n",
       "    <tr>\n",
       "      <th>197</th>\n",
       "      <td>24.17</td>\n",
       "      <td>83.73</td>\n",
       "      <td>257.03</td>\n",
       "      <td>5.58</td>\n",
       "      <td>2.0</td>\n",
       "      <td>2.1</td>\n",
       "      <td>3.5</td>\n",
       "      <td>silty clay</td>\n",
       "      <td>rice</td>\n",
       "      <td>Urea and DAP</td>\n",
       "    </tr>\n",
       "    <tr>\n",
       "      <th>198</th>\n",
       "      <td>26.23</td>\n",
       "      <td>83.84</td>\n",
       "      <td>286.51</td>\n",
       "      <td>5.54</td>\n",
       "      <td>4.2</td>\n",
       "      <td>2.3</td>\n",
       "      <td>3.2</td>\n",
       "      <td>silty clay</td>\n",
       "      <td>rice</td>\n",
       "      <td>DAP</td>\n",
       "    </tr>\n",
       "    <tr>\n",
       "      <th>199</th>\n",
       "      <td>23.83</td>\n",
       "      <td>84.81</td>\n",
       "      <td>298.56</td>\n",
       "      <td>6.27</td>\n",
       "      <td>2.5</td>\n",
       "      <td>4.0</td>\n",
       "      <td>2.0</td>\n",
       "      <td>silty clay</td>\n",
       "      <td>rice</td>\n",
       "      <td>Urea and MOP</td>\n",
       "    </tr>\n",
       "  </tbody>\n",
       "</table>\n",
       "<p>200 rows × 10 columns</p>\n",
       "</div>"
      ],
      "text/plain": [
       "     Temperature  Humidity  Rainfall    pH    N    P    K        Soil  \\\n",
       "0          24.87     82.84    295.61  6.59  4.0  2.0  2.5      Clayey   \n",
       "1          28.69     96.65    178.96  6.08  4.0  4.0  4.0    laterite   \n",
       "2          20.27     81.64    270.44  5.01  4.0  4.0  2.0  silty clay   \n",
       "3          25.07     95.02    192.90  5.55  2.0  2.1  3.5       sandy   \n",
       "4          25.04     95.90    174.80  6.18  2.0  3.9  2.1     coastal   \n",
       "..           ...       ...       ...   ...  ...  ...  ...         ...   \n",
       "195        23.58     83.59    291.30  5.85  4.0  2.0  3.0  silty clay   \n",
       "196        25.66     83.47    217.38  7.12  2.0  3.9  2.1      Clayey   \n",
       "197        24.17     83.73    257.03  5.58  2.0  2.1  3.5  silty clay   \n",
       "198        26.23     83.84    286.51  5.54  4.2  2.3  3.2  silty clay   \n",
       "199        23.83     84.81    298.56  6.27  2.5  4.0  2.0  silty clay   \n",
       "\n",
       "        Crop    Fertilizer  \n",
       "0       rice   DAP and MOP  \n",
       "1    Coconut      Good NPK  \n",
       "2       rice           MOP  \n",
       "3    Coconut  Urea and DAP  \n",
       "4    Coconut  Urea and MOP  \n",
       "..       ...           ...  \n",
       "195     rice           DAP  \n",
       "196     rice  Urea and MOP  \n",
       "197     rice  Urea and DAP  \n",
       "198     rice           DAP  \n",
       "199     rice  Urea and MOP  \n",
       "\n",
       "[200 rows x 10 columns]"
      ]
     },
     "execution_count": 6,
     "metadata": {},
     "output_type": "execute_result"
    }
   ],
   "source": [
    "df"
   ]
  },
  {
   "cell_type": "code",
   "execution_count": 7,
   "id": "1a56723d-dbba-494c-aa9e-e994e8930386",
   "metadata": {},
   "outputs": [
    {
     "data": {
      "text/plain": [
       "Index(['Temperature', 'Humidity', 'Rainfall', 'pH', 'N', 'P', 'K', 'Soil',\n",
       "       'Crop', 'Fertilizer'],\n",
       "      dtype='object')"
      ]
     },
     "execution_count": 7,
     "metadata": {},
     "output_type": "execute_result"
    }
   ],
   "source": [
    "df.columns"
   ]
  },
  {
   "cell_type": "code",
   "execution_count": 8,
   "id": "e930b2b5-2e54-4942-b97e-2e4f4317eb57",
   "metadata": {},
   "outputs": [
    {
     "data": {
      "text/html": [
       "<div>\n",
       "<style scoped>\n",
       "    .dataframe tbody tr th:only-of-type {\n",
       "        vertical-align: middle;\n",
       "    }\n",
       "\n",
       "    .dataframe tbody tr th {\n",
       "        vertical-align: top;\n",
       "    }\n",
       "\n",
       "    .dataframe thead th {\n",
       "        text-align: right;\n",
       "    }\n",
       "</style>\n",
       "<table border=\"1\" class=\"dataframe\">\n",
       "  <thead>\n",
       "    <tr style=\"text-align: right;\">\n",
       "      <th></th>\n",
       "      <th>Temperature</th>\n",
       "      <th>Humidity</th>\n",
       "      <th>Rainfall</th>\n",
       "      <th>pH</th>\n",
       "      <th>N</th>\n",
       "      <th>P</th>\n",
       "      <th>K</th>\n",
       "      <th>Soil</th>\n",
       "      <th>Crop</th>\n",
       "      <th>Fertilizer</th>\n",
       "    </tr>\n",
       "  </thead>\n",
       "  <tbody>\n",
       "    <tr>\n",
       "      <th>0</th>\n",
       "      <td>False</td>\n",
       "      <td>False</td>\n",
       "      <td>False</td>\n",
       "      <td>False</td>\n",
       "      <td>False</td>\n",
       "      <td>False</td>\n",
       "      <td>False</td>\n",
       "      <td>False</td>\n",
       "      <td>False</td>\n",
       "      <td>False</td>\n",
       "    </tr>\n",
       "    <tr>\n",
       "      <th>1</th>\n",
       "      <td>False</td>\n",
       "      <td>False</td>\n",
       "      <td>False</td>\n",
       "      <td>False</td>\n",
       "      <td>False</td>\n",
       "      <td>False</td>\n",
       "      <td>False</td>\n",
       "      <td>False</td>\n",
       "      <td>False</td>\n",
       "      <td>False</td>\n",
       "    </tr>\n",
       "    <tr>\n",
       "      <th>2</th>\n",
       "      <td>False</td>\n",
       "      <td>False</td>\n",
       "      <td>False</td>\n",
       "      <td>False</td>\n",
       "      <td>False</td>\n",
       "      <td>False</td>\n",
       "      <td>False</td>\n",
       "      <td>False</td>\n",
       "      <td>False</td>\n",
       "      <td>False</td>\n",
       "    </tr>\n",
       "    <tr>\n",
       "      <th>3</th>\n",
       "      <td>False</td>\n",
       "      <td>False</td>\n",
       "      <td>False</td>\n",
       "      <td>False</td>\n",
       "      <td>False</td>\n",
       "      <td>False</td>\n",
       "      <td>False</td>\n",
       "      <td>False</td>\n",
       "      <td>False</td>\n",
       "      <td>False</td>\n",
       "    </tr>\n",
       "    <tr>\n",
       "      <th>4</th>\n",
       "      <td>False</td>\n",
       "      <td>False</td>\n",
       "      <td>False</td>\n",
       "      <td>False</td>\n",
       "      <td>False</td>\n",
       "      <td>False</td>\n",
       "      <td>False</td>\n",
       "      <td>False</td>\n",
       "      <td>False</td>\n",
       "      <td>False</td>\n",
       "    </tr>\n",
       "    <tr>\n",
       "      <th>...</th>\n",
       "      <td>...</td>\n",
       "      <td>...</td>\n",
       "      <td>...</td>\n",
       "      <td>...</td>\n",
       "      <td>...</td>\n",
       "      <td>...</td>\n",
       "      <td>...</td>\n",
       "      <td>...</td>\n",
       "      <td>...</td>\n",
       "      <td>...</td>\n",
       "    </tr>\n",
       "    <tr>\n",
       "      <th>195</th>\n",
       "      <td>False</td>\n",
       "      <td>False</td>\n",
       "      <td>False</td>\n",
       "      <td>False</td>\n",
       "      <td>False</td>\n",
       "      <td>False</td>\n",
       "      <td>False</td>\n",
       "      <td>False</td>\n",
       "      <td>False</td>\n",
       "      <td>False</td>\n",
       "    </tr>\n",
       "    <tr>\n",
       "      <th>196</th>\n",
       "      <td>False</td>\n",
       "      <td>False</td>\n",
       "      <td>False</td>\n",
       "      <td>False</td>\n",
       "      <td>False</td>\n",
       "      <td>False</td>\n",
       "      <td>False</td>\n",
       "      <td>False</td>\n",
       "      <td>False</td>\n",
       "      <td>False</td>\n",
       "    </tr>\n",
       "    <tr>\n",
       "      <th>197</th>\n",
       "      <td>False</td>\n",
       "      <td>False</td>\n",
       "      <td>False</td>\n",
       "      <td>False</td>\n",
       "      <td>False</td>\n",
       "      <td>False</td>\n",
       "      <td>False</td>\n",
       "      <td>False</td>\n",
       "      <td>False</td>\n",
       "      <td>False</td>\n",
       "    </tr>\n",
       "    <tr>\n",
       "      <th>198</th>\n",
       "      <td>False</td>\n",
       "      <td>False</td>\n",
       "      <td>False</td>\n",
       "      <td>False</td>\n",
       "      <td>False</td>\n",
       "      <td>False</td>\n",
       "      <td>False</td>\n",
       "      <td>False</td>\n",
       "      <td>False</td>\n",
       "      <td>False</td>\n",
       "    </tr>\n",
       "    <tr>\n",
       "      <th>199</th>\n",
       "      <td>False</td>\n",
       "      <td>False</td>\n",
       "      <td>False</td>\n",
       "      <td>False</td>\n",
       "      <td>False</td>\n",
       "      <td>False</td>\n",
       "      <td>False</td>\n",
       "      <td>False</td>\n",
       "      <td>False</td>\n",
       "      <td>False</td>\n",
       "    </tr>\n",
       "  </tbody>\n",
       "</table>\n",
       "<p>200 rows × 10 columns</p>\n",
       "</div>"
      ],
      "text/plain": [
       "     Temperature  Humidity  Rainfall     pH      N      P      K   Soil  \\\n",
       "0          False     False     False  False  False  False  False  False   \n",
       "1          False     False     False  False  False  False  False  False   \n",
       "2          False     False     False  False  False  False  False  False   \n",
       "3          False     False     False  False  False  False  False  False   \n",
       "4          False     False     False  False  False  False  False  False   \n",
       "..           ...       ...       ...    ...    ...    ...    ...    ...   \n",
       "195        False     False     False  False  False  False  False  False   \n",
       "196        False     False     False  False  False  False  False  False   \n",
       "197        False     False     False  False  False  False  False  False   \n",
       "198        False     False     False  False  False  False  False  False   \n",
       "199        False     False     False  False  False  False  False  False   \n",
       "\n",
       "      Crop  Fertilizer  \n",
       "0    False       False  \n",
       "1    False       False  \n",
       "2    False       False  \n",
       "3    False       False  \n",
       "4    False       False  \n",
       "..     ...         ...  \n",
       "195  False       False  \n",
       "196  False       False  \n",
       "197  False       False  \n",
       "198  False       False  \n",
       "199  False       False  \n",
       "\n",
       "[200 rows x 10 columns]"
      ]
     },
     "execution_count": 8,
     "metadata": {},
     "output_type": "execute_result"
    }
   ],
   "source": [
    "df.isna()"
   ]
  },
  {
   "cell_type": "code",
   "execution_count": 9,
   "id": "392ef9f3-a619-4ae6-9298-c27303af415c",
   "metadata": {},
   "outputs": [
    {
     "data": {
      "text/plain": [
       "Temperature    0\n",
       "Humidity       0\n",
       "Rainfall       0\n",
       "pH             0\n",
       "N              0\n",
       "P              0\n",
       "K              0\n",
       "Soil           0\n",
       "Crop           0\n",
       "Fertilizer     0\n",
       "dtype: int64"
      ]
     },
     "execution_count": 9,
     "metadata": {},
     "output_type": "execute_result"
    }
   ],
   "source": [
    "df.isna().sum()"
   ]
  },
  {
   "cell_type": "code",
   "execution_count": 10,
   "id": "5f5fe22a-de2d-433b-ba5c-6e6048997850",
   "metadata": {},
   "outputs": [
    {
     "data": {
      "text/html": [
       "<div>\n",
       "<style scoped>\n",
       "    .dataframe tbody tr th:only-of-type {\n",
       "        vertical-align: middle;\n",
       "    }\n",
       "\n",
       "    .dataframe tbody tr th {\n",
       "        vertical-align: top;\n",
       "    }\n",
       "\n",
       "    .dataframe thead th {\n",
       "        text-align: right;\n",
       "    }\n",
       "</style>\n",
       "<table border=\"1\" class=\"dataframe\">\n",
       "  <thead>\n",
       "    <tr style=\"text-align: right;\">\n",
       "      <th></th>\n",
       "      <th>Temperature</th>\n",
       "      <th>Humidity</th>\n",
       "      <th>Rainfall</th>\n",
       "      <th>pH</th>\n",
       "      <th>N</th>\n",
       "      <th>P</th>\n",
       "      <th>K</th>\n",
       "      <th>Soil</th>\n",
       "      <th>Crop</th>\n",
       "      <th>Fertilizer</th>\n",
       "    </tr>\n",
       "  </thead>\n",
       "  <tbody>\n",
       "    <tr>\n",
       "      <th>0</th>\n",
       "      <td>24.87</td>\n",
       "      <td>82.84</td>\n",
       "      <td>295.61</td>\n",
       "      <td>6.59</td>\n",
       "      <td>4.0</td>\n",
       "      <td>2.0</td>\n",
       "      <td>2.5</td>\n",
       "      <td>Clayey</td>\n",
       "      <td>rice</td>\n",
       "      <td>DAP and MOP</td>\n",
       "    </tr>\n",
       "    <tr>\n",
       "      <th>1</th>\n",
       "      <td>28.69</td>\n",
       "      <td>96.65</td>\n",
       "      <td>178.96</td>\n",
       "      <td>6.08</td>\n",
       "      <td>4.0</td>\n",
       "      <td>4.0</td>\n",
       "      <td>4.0</td>\n",
       "      <td>laterite</td>\n",
       "      <td>Coconut</td>\n",
       "      <td>Good NPK</td>\n",
       "    </tr>\n",
       "    <tr>\n",
       "      <th>2</th>\n",
       "      <td>20.27</td>\n",
       "      <td>81.64</td>\n",
       "      <td>270.44</td>\n",
       "      <td>5.01</td>\n",
       "      <td>4.0</td>\n",
       "      <td>4.0</td>\n",
       "      <td>2.0</td>\n",
       "      <td>silty clay</td>\n",
       "      <td>rice</td>\n",
       "      <td>MOP</td>\n",
       "    </tr>\n",
       "  </tbody>\n",
       "</table>\n",
       "</div>"
      ],
      "text/plain": [
       "   Temperature  Humidity  Rainfall    pH    N    P    K        Soil     Crop  \\\n",
       "0        24.87     82.84    295.61  6.59  4.0  2.0  2.5      Clayey     rice   \n",
       "1        28.69     96.65    178.96  6.08  4.0  4.0  4.0    laterite  Coconut   \n",
       "2        20.27     81.64    270.44  5.01  4.0  4.0  2.0  silty clay     rice   \n",
       "\n",
       "    Fertilizer  \n",
       "0  DAP and MOP  \n",
       "1     Good NPK  \n",
       "2          MOP  "
      ]
     },
     "execution_count": 10,
     "metadata": {},
     "output_type": "execute_result"
    }
   ],
   "source": [
    "df.head(3)"
   ]
  },
  {
   "cell_type": "code",
   "execution_count": 11,
   "id": "f67b47be-64c3-4462-bb32-1638bc4c48d9",
   "metadata": {},
   "outputs": [
    {
     "data": {
      "text/plain": [
       "array(['DAP and MOP', 'Good NPK', 'MOP', 'Urea and DAP', 'Urea and MOP',\n",
       "       'Urea ', 'DAP'], dtype=object)"
      ]
     },
     "execution_count": 11,
     "metadata": {},
     "output_type": "execute_result"
    }
   ],
   "source": [
    "df['Fertilizer'].unique()"
   ]
  },
  {
   "cell_type": "code",
   "execution_count": 12,
   "id": "9c11e6dc-69f7-4665-8526-00b6a8b6f3fd",
   "metadata": {},
   "outputs": [],
   "source": [
    "#df['Fertilizer']"
   ]
  },
  {
   "cell_type": "code",
   "execution_count": 13,
   "id": "78172977-337f-40c4-8e49-2d604cf2c723",
   "metadata": {},
   "outputs": [
    {
     "data": {
      "text/plain": [
       "array(['Clayey', 'laterite', 'silty clay', 'sandy', 'coastal',\n",
       "       'clay loam', 'alluvial'], dtype=object)"
      ]
     },
     "execution_count": 13,
     "metadata": {},
     "output_type": "execute_result"
    }
   ],
   "source": [
    "df['Soil'].unique()"
   ]
  },
  {
   "cell_type": "code",
   "execution_count": 14,
   "id": "7f1f1740-2f0c-4747-9703-c1210dd6d662",
   "metadata": {},
   "outputs": [],
   "source": [
    "#df['Soil']"
   ]
  },
  {
   "cell_type": "code",
   "execution_count": 15,
   "id": "012e3102-152d-424a-a020-06676888c91a",
   "metadata": {},
   "outputs": [
    {
     "data": {
      "text/plain": [
       "array(['rice', 'Coconut'], dtype=object)"
      ]
     },
     "execution_count": 15,
     "metadata": {},
     "output_type": "execute_result"
    }
   ],
   "source": [
    "df['Crop'].unique()"
   ]
  },
  {
   "cell_type": "code",
   "execution_count": 16,
   "id": "a3f688aa-970b-4aea-b225-2b29441e41d5",
   "metadata": {},
   "outputs": [],
   "source": [
    "#df['Crop']"
   ]
  },
  {
   "cell_type": "code",
   "execution_count": 17,
   "id": "0314acb2-3d34-47fe-a156-8e4db7b8a78f",
   "metadata": {},
   "outputs": [],
   "source": [
    "# from sklearn.preprocessing import LabelEncoder\n",
    "# le = LabelEncoder()\n",
    "# df['Soil'] = le.fit_transform(df['Soil'])"
   ]
  },
  {
   "cell_type": "code",
   "execution_count": 18,
   "id": "4087dd42-b6bc-4b5b-92a6-7a427df89ad0",
   "metadata": {},
   "outputs": [],
   "source": [
    "#df['Soil']"
   ]
  },
  {
   "cell_type": "code",
   "execution_count": 19,
   "id": "4456dbb1-75a5-44b9-9d7b-7702a15b751b",
   "metadata": {},
   "outputs": [],
   "source": [
    "#df['Crop'] = le.fit_transform(df['Crop'])"
   ]
  },
  {
   "cell_type": "code",
   "execution_count": 20,
   "id": "7dcbb9a5-f766-4108-89fb-97849c604658",
   "metadata": {},
   "outputs": [],
   "source": [
    "#df['Crop']"
   ]
  },
  {
   "cell_type": "code",
   "execution_count": 21,
   "id": "f450a133-0067-4343-bf01-ba2c62cee15b",
   "metadata": {},
   "outputs": [],
   "source": [
    "Fert_dict = {'DAP and MOP' : 1, 'Good NPK' :2, 'MOP':3, 'Urea and DAP':4, 'Urea and MOP':5,\n",
    "       'Urea ':6, 'DAP':7}"
   ]
  },
  {
   "cell_type": "code",
   "execution_count": 22,
   "id": "e0c7c46b-4620-4be9-ad28-417a7e971c6a",
   "metadata": {},
   "outputs": [],
   "source": [
    "df['Fertilizer'] = df['Fertilizer'].map(Fert_dict)"
   ]
  },
  {
   "cell_type": "code",
   "execution_count": 23,
   "id": "7daac96e-03aa-41ba-8aae-06215b193001",
   "metadata": {},
   "outputs": [
    {
     "data": {
      "text/plain": [
       "0      1\n",
       "1      2\n",
       "2      3\n",
       "3      4\n",
       "4      5\n",
       "      ..\n",
       "195    7\n",
       "196    5\n",
       "197    4\n",
       "198    7\n",
       "199    5\n",
       "Name: Fertilizer, Length: 200, dtype: int64"
      ]
     },
     "execution_count": 23,
     "metadata": {},
     "output_type": "execute_result"
    }
   ],
   "source": [
    "df['Fertilizer']"
   ]
  },
  {
   "cell_type": "code",
   "execution_count": 24,
   "id": "7c2864c4-b02a-4886-a8ea-ac7f4a95d3ab",
   "metadata": {},
   "outputs": [],
   "source": [
    "Soil_dict = {'Clayey' : 1, 'laterite' : 2, 'silty clay': 3, 'sandy' : 4, 'coastal' : 5, 'clay loam' : 6, 'alluvial' : 7}"
   ]
  },
  {
   "cell_type": "code",
   "execution_count": 25,
   "id": "9113c3df-f641-4ad4-85a4-09fba209102b",
   "metadata": {},
   "outputs": [],
   "source": [
    "df['Soil'] = df['Soil'].map(Soil_dict)"
   ]
  },
  {
   "cell_type": "code",
   "execution_count": 26,
   "id": "b84bdbb5-7f05-45fd-8fc5-59a64272ab69",
   "metadata": {},
   "outputs": [
    {
     "data": {
      "text/plain": [
       "array([1, 2, 3, 4, 5, 6, 7])"
      ]
     },
     "execution_count": 26,
     "metadata": {},
     "output_type": "execute_result"
    }
   ],
   "source": [
    "df['Soil'].unique()"
   ]
  },
  {
   "cell_type": "code",
   "execution_count": 27,
   "id": "dc4f7fb6-5826-441c-8bc6-c66d18191f25",
   "metadata": {},
   "outputs": [
    {
     "data": {
      "text/plain": [
       "0      1\n",
       "1      2\n",
       "2      3\n",
       "3      4\n",
       "4      5\n",
       "      ..\n",
       "195    3\n",
       "196    1\n",
       "197    3\n",
       "198    3\n",
       "199    3\n",
       "Name: Soil, Length: 200, dtype: int64"
      ]
     },
     "execution_count": 27,
     "metadata": {},
     "output_type": "execute_result"
    }
   ],
   "source": [
    "df['Soil']"
   ]
  },
  {
   "cell_type": "code",
   "execution_count": 28,
   "id": "79adf050-2539-4355-a3f0-514b4be685e8",
   "metadata": {},
   "outputs": [],
   "source": [
    "Crop_dict = {'rice' : 1, 'Coconut' : 2}"
   ]
  },
  {
   "cell_type": "code",
   "execution_count": 29,
   "id": "0d80a932-a17b-4517-8a95-f8ad176eff1a",
   "metadata": {},
   "outputs": [],
   "source": [
    "df['Crop'] = df['Crop'].map(Crop_dict)"
   ]
  },
  {
   "cell_type": "code",
   "execution_count": 30,
   "id": "521a2c40-b3cd-419d-ba03-46aa70722df8",
   "metadata": {},
   "outputs": [
    {
     "data": {
      "text/plain": [
       "0      1\n",
       "1      2\n",
       "2      1\n",
       "3      2\n",
       "4      2\n",
       "      ..\n",
       "195    1\n",
       "196    1\n",
       "197    1\n",
       "198    1\n",
       "199    1\n",
       "Name: Crop, Length: 200, dtype: int64"
      ]
     },
     "execution_count": 30,
     "metadata": {},
     "output_type": "execute_result"
    }
   ],
   "source": [
    "df['Crop']"
   ]
  },
  {
   "cell_type": "code",
   "execution_count": 31,
   "id": "8c7d2944-7edd-4c6c-ad80-9294890fc1cb",
   "metadata": {},
   "outputs": [
    {
     "data": {
      "text/plain": [
       "Index(['Temperature', 'Humidity', 'Rainfall', 'pH', 'N', 'P', 'K', 'Soil',\n",
       "       'Crop', 'Fertilizer'],\n",
       "      dtype='object')"
      ]
     },
     "execution_count": 31,
     "metadata": {},
     "output_type": "execute_result"
    }
   ],
   "source": [
    "df.columns"
   ]
  },
  {
   "cell_type": "code",
   "execution_count": 32,
   "id": "6bc45bf1-f12e-4104-abb6-365e61c18cc8",
   "metadata": {},
   "outputs": [],
   "source": [
    "x = df[['Temperature', 'Humidity', 'Rainfall', 'pH', 'N', 'P', 'K', 'Soil',\n",
    "       'Crop']]\n",
    "\n",
    "y = df ['Fertilizer']"
   ]
  },
  {
   "cell_type": "code",
   "execution_count": 33,
   "id": "9a7d6da9-fd86-4589-86b7-f670dc33bb0e",
   "metadata": {},
   "outputs": [
    {
     "data": {
      "text/html": [
       "<div>\n",
       "<style scoped>\n",
       "    .dataframe tbody tr th:only-of-type {\n",
       "        vertical-align: middle;\n",
       "    }\n",
       "\n",
       "    .dataframe tbody tr th {\n",
       "        vertical-align: top;\n",
       "    }\n",
       "\n",
       "    .dataframe thead th {\n",
       "        text-align: right;\n",
       "    }\n",
       "</style>\n",
       "<table border=\"1\" class=\"dataframe\">\n",
       "  <thead>\n",
       "    <tr style=\"text-align: right;\">\n",
       "      <th></th>\n",
       "      <th>Temperature</th>\n",
       "      <th>Humidity</th>\n",
       "      <th>Rainfall</th>\n",
       "      <th>pH</th>\n",
       "      <th>N</th>\n",
       "      <th>P</th>\n",
       "      <th>K</th>\n",
       "      <th>Soil</th>\n",
       "      <th>Crop</th>\n",
       "    </tr>\n",
       "  </thead>\n",
       "  <tbody>\n",
       "    <tr>\n",
       "      <th>0</th>\n",
       "      <td>24.87</td>\n",
       "      <td>82.84</td>\n",
       "      <td>295.61</td>\n",
       "      <td>6.59</td>\n",
       "      <td>4.0</td>\n",
       "      <td>2.0</td>\n",
       "      <td>2.5</td>\n",
       "      <td>1</td>\n",
       "      <td>1</td>\n",
       "    </tr>\n",
       "    <tr>\n",
       "      <th>1</th>\n",
       "      <td>28.69</td>\n",
       "      <td>96.65</td>\n",
       "      <td>178.96</td>\n",
       "      <td>6.08</td>\n",
       "      <td>4.0</td>\n",
       "      <td>4.0</td>\n",
       "      <td>4.0</td>\n",
       "      <td>2</td>\n",
       "      <td>2</td>\n",
       "    </tr>\n",
       "    <tr>\n",
       "      <th>2</th>\n",
       "      <td>20.27</td>\n",
       "      <td>81.64</td>\n",
       "      <td>270.44</td>\n",
       "      <td>5.01</td>\n",
       "      <td>4.0</td>\n",
       "      <td>4.0</td>\n",
       "      <td>2.0</td>\n",
       "      <td>3</td>\n",
       "      <td>1</td>\n",
       "    </tr>\n",
       "  </tbody>\n",
       "</table>\n",
       "</div>"
      ],
      "text/plain": [
       "   Temperature  Humidity  Rainfall    pH    N    P    K  Soil  Crop\n",
       "0        24.87     82.84    295.61  6.59  4.0  2.0  2.5     1     1\n",
       "1        28.69     96.65    178.96  6.08  4.0  4.0  4.0     2     2\n",
       "2        20.27     81.64    270.44  5.01  4.0  4.0  2.0     3     1"
      ]
     },
     "execution_count": 33,
     "metadata": {},
     "output_type": "execute_result"
    }
   ],
   "source": [
    "x.head(3)"
   ]
  },
  {
   "cell_type": "code",
   "execution_count": 34,
   "id": "13941d98-6a0a-457e-a81f-7af4de5426b5",
   "metadata": {},
   "outputs": [
    {
     "data": {
      "text/plain": [
       "0    1\n",
       "1    2\n",
       "2    3\n",
       "Name: Fertilizer, dtype: int64"
      ]
     },
     "execution_count": 34,
     "metadata": {},
     "output_type": "execute_result"
    }
   ],
   "source": [
    "y.head(3)"
   ]
  },
  {
   "cell_type": "code",
   "execution_count": 35,
   "id": "3e0e8b66-fff7-4ca4-8691-c0801c11645d",
   "metadata": {},
   "outputs": [],
   "source": [
    "xtr,xte,ytr,yte = train_test_split(x,y,train_size=0.80,random_state=12345)"
   ]
  },
  {
   "cell_type": "code",
   "execution_count": 36,
   "id": "f0c8169a-2519-4da1-9641-8ec1b92f506b",
   "metadata": {},
   "outputs": [
    {
     "name": "stdout",
     "output_type": "stream",
     "text": [
      "xtrin:  (160, 9)\n",
      "ytrin:  (160,)\n",
      "xtest:  (40, 9)\n",
      "ytest:  (40,)\n"
     ]
    }
   ],
   "source": [
    "print(\"xtrin: \",xtr.shape)\n",
    "print(\"ytrin: \",ytr.shape)\n",
    "print(\"xtest: \",xte.shape)\n",
    "print(\"ytest: \",yte.shape)"
   ]
  },
  {
   "cell_type": "code",
   "execution_count": 37,
   "id": "f86068e9-827a-4125-9b7d-62d0f32a74dd",
   "metadata": {},
   "outputs": [
    {
     "data": {
      "text/html": [
       "<style>#sk-container-id-1 {color: black;}#sk-container-id-1 pre{padding: 0;}#sk-container-id-1 div.sk-toggleable {background-color: white;}#sk-container-id-1 label.sk-toggleable__label {cursor: pointer;display: block;width: 100%;margin-bottom: 0;padding: 0.3em;box-sizing: border-box;text-align: center;}#sk-container-id-1 label.sk-toggleable__label-arrow:before {content: \"▸\";float: left;margin-right: 0.25em;color: #696969;}#sk-container-id-1 label.sk-toggleable__label-arrow:hover:before {color: black;}#sk-container-id-1 div.sk-estimator:hover label.sk-toggleable__label-arrow:before {color: black;}#sk-container-id-1 div.sk-toggleable__content {max-height: 0;max-width: 0;overflow: hidden;text-align: left;background-color: #f0f8ff;}#sk-container-id-1 div.sk-toggleable__content pre {margin: 0.2em;color: black;border-radius: 0.25em;background-color: #f0f8ff;}#sk-container-id-1 input.sk-toggleable__control:checked~div.sk-toggleable__content {max-height: 200px;max-width: 100%;overflow: auto;}#sk-container-id-1 input.sk-toggleable__control:checked~label.sk-toggleable__label-arrow:before {content: \"▾\";}#sk-container-id-1 div.sk-estimator input.sk-toggleable__control:checked~label.sk-toggleable__label {background-color: #d4ebff;}#sk-container-id-1 div.sk-label input.sk-toggleable__control:checked~label.sk-toggleable__label {background-color: #d4ebff;}#sk-container-id-1 input.sk-hidden--visually {border: 0;clip: rect(1px 1px 1px 1px);clip: rect(1px, 1px, 1px, 1px);height: 1px;margin: -1px;overflow: hidden;padding: 0;position: absolute;width: 1px;}#sk-container-id-1 div.sk-estimator {font-family: monospace;background-color: #f0f8ff;border: 1px dotted black;border-radius: 0.25em;box-sizing: border-box;margin-bottom: 0.5em;}#sk-container-id-1 div.sk-estimator:hover {background-color: #d4ebff;}#sk-container-id-1 div.sk-parallel-item::after {content: \"\";width: 100%;border-bottom: 1px solid gray;flex-grow: 1;}#sk-container-id-1 div.sk-label:hover label.sk-toggleable__label {background-color: #d4ebff;}#sk-container-id-1 div.sk-serial::before {content: \"\";position: absolute;border-left: 1px solid gray;box-sizing: border-box;top: 0;bottom: 0;left: 50%;z-index: 0;}#sk-container-id-1 div.sk-serial {display: flex;flex-direction: column;align-items: center;background-color: white;padding-right: 0.2em;padding-left: 0.2em;position: relative;}#sk-container-id-1 div.sk-item {position: relative;z-index: 1;}#sk-container-id-1 div.sk-parallel {display: flex;align-items: stretch;justify-content: center;background-color: white;position: relative;}#sk-container-id-1 div.sk-item::before, #sk-container-id-1 div.sk-parallel-item::before {content: \"\";position: absolute;border-left: 1px solid gray;box-sizing: border-box;top: 0;bottom: 0;left: 50%;z-index: -1;}#sk-container-id-1 div.sk-parallel-item {display: flex;flex-direction: column;z-index: 1;position: relative;background-color: white;}#sk-container-id-1 div.sk-parallel-item:first-child::after {align-self: flex-end;width: 50%;}#sk-container-id-1 div.sk-parallel-item:last-child::after {align-self: flex-start;width: 50%;}#sk-container-id-1 div.sk-parallel-item:only-child::after {width: 0;}#sk-container-id-1 div.sk-dashed-wrapped {border: 1px dashed gray;margin: 0 0.4em 0.5em 0.4em;box-sizing: border-box;padding-bottom: 0.4em;background-color: white;}#sk-container-id-1 div.sk-label label {font-family: monospace;font-weight: bold;display: inline-block;line-height: 1.2em;}#sk-container-id-1 div.sk-label-container {text-align: center;}#sk-container-id-1 div.sk-container {/* jupyter's `normalize.less` sets `[hidden] { display: none; }` but bootstrap.min.css set `[hidden] { display: none !important; }` so we also need the `!important` here to be able to override the default hidden behavior on the sphinx rendered scikit-learn.org. See: https://github.com/scikit-learn/scikit-learn/issues/21755 */display: inline-block !important;position: relative;}#sk-container-id-1 div.sk-text-repr-fallback {display: none;}</style><div id=\"sk-container-id-1\" class=\"sk-top-container\"><div class=\"sk-text-repr-fallback\"><pre>LogisticRegressionCV()</pre><b>In a Jupyter environment, please rerun this cell to show the HTML representation or trust the notebook. <br />On GitHub, the HTML representation is unable to render, please try loading this page with nbviewer.org.</b></div><div class=\"sk-container\" hidden><div class=\"sk-item\"><div class=\"sk-estimator sk-toggleable\"><input class=\"sk-toggleable__control sk-hidden--visually\" id=\"sk-estimator-id-1\" type=\"checkbox\" checked><label for=\"sk-estimator-id-1\" class=\"sk-toggleable__label sk-toggleable__label-arrow\">LogisticRegressionCV</label><div class=\"sk-toggleable__content\"><pre>LogisticRegressionCV()</pre></div></div></div></div></div>"
      ],
      "text/plain": [
       "LogisticRegressionCV()"
      ]
     },
     "execution_count": 37,
     "metadata": {},
     "output_type": "execute_result"
    }
   ],
   "source": [
    "log_model = LogisticRegressionCV()\n",
    "log_model.fit(xtr,ytr)"
   ]
  },
  {
   "cell_type": "code",
   "execution_count": 38,
   "id": "92c3889d-b787-4c4b-bab9-6abe910ce125",
   "metadata": {},
   "outputs": [],
   "source": [
    "ypred1 = log_model.predict(xte)"
   ]
  },
  {
   "cell_type": "code",
   "execution_count": 39,
   "id": "762fef3a-ed9e-42de-aecb-e89d0116fe0a",
   "metadata": {},
   "outputs": [
    {
     "data": {
      "text/plain": [
       "0.975"
      ]
     },
     "execution_count": 39,
     "metadata": {},
     "output_type": "execute_result"
    }
   ],
   "source": [
    "accuracy_score(yte,ypred1)"
   ]
  },
  {
   "cell_type": "code",
   "execution_count": 40,
   "id": "cb904b6b-7275-422a-ae8e-3e157f3baa5f",
   "metadata": {},
   "outputs": [],
   "source": [
    "def build_log():\n",
    "    from sklearn.linear_model import LogisticRegression\n",
    "    model = LogisticRegression()\n",
    "    model.fit(xtr,ytr)\n",
    "    return model"
   ]
  },
  {
   "cell_type": "code",
   "execution_count": 41,
   "id": "fe68ebe7-59b5-4160-bfcd-a834a849841d",
   "metadata": {},
   "outputs": [],
   "source": [
    "def build_knn():\n",
    "    model = KNeighborsClassifier()\n",
    "    model.fit(xtr,ytr)\n",
    "    return model"
   ]
  },
  {
   "cell_type": "code",
   "execution_count": 42,
   "id": "0e55d731-7016-4c86-af71-c1254e118c24",
   "metadata": {},
   "outputs": [],
   "source": [
    "def build_Dtree():\n",
    "    model = DecisionTreeClassifier()\n",
    "    model.fit(xtr,ytr)\n",
    "    return model"
   ]
  },
  {
   "cell_type": "code",
   "execution_count": 43,
   "id": "e4c0d572-457f-4725-9fc5-81eb8318b446",
   "metadata": {},
   "outputs": [],
   "source": [
    "def build_rand():\n",
    "    model = RandomForestClassifier()\n",
    "    model.fit(xtr,ytr)\n",
    "    return model"
   ]
  },
  {
   "cell_type": "code",
   "execution_count": 44,
   "id": "79b04237-0f1c-4cc1-9b53-b9f632f2c6e9",
   "metadata": {},
   "outputs": [],
   "source": [
    "def build_gb():\n",
    "    model = GradientBoostingClassifier()\n",
    "    model.fit(xtr,ytr)\n",
    "    return model"
   ]
  },
  {
   "cell_type": "code",
   "execution_count": 45,
   "id": "f924e59a-2544-4421-ad01-ce7fc9e7a344",
   "metadata": {},
   "outputs": [],
   "source": [
    "from sklearn.preprocessing import LabelEncoder\n",
    "le = LabelEncoder()\n",
    "ytr = le.fit_transform(ytr) \n",
    "yte = le.fit_transform(yte)\n",
    "def build_xgb():\n",
    "    model = XGBClassifier(n_estimators = 200,learning_rate = 0.1,verbose = False)\n",
    "    model.fit(xtr,ytr)\n",
    "    return model"
   ]
  },
  {
   "cell_type": "code",
   "execution_count": 46,
   "id": "1fdc10e1-0714-4578-b65f-2c65a0096656",
   "metadata": {},
   "outputs": [],
   "source": [
    "# def Evaluate_models(model):\n",
    "#     ypred = model.predict(xte)\n",
    "#     accuracy = accuracy_score(yte,ypred)\n",
    "#     f1 = f1_score(yte,ypred)\n",
    "#     precision = precision_score(yte,ypred)\n",
    "#     recall = recall_score(yte,ypred)\n",
    "#     return accuracy,f1,precision,recall\n",
    "\n",
    "\n",
    "from sklearn.metrics import confusion_matrix, accuracy_score, precision_score, recall_score, f1_score\n",
    "def evaluate_model(model):\n",
    "    # define y_true and y_pred\n",
    "    y_true = yte\n",
    "    y_pred = model.predict(xte)\n",
    "    cm = confusion_matrix(y_true, y_pred)\n",
    "    accuracy = accuracy_score(y_true, y_pred)\n",
    "    precision = precision_score(y_true, y_pred,average='macro')\n",
    "    # precision_score(yte,ypred,average='macro')\n",
    "    recall = recall_score(y_true, y_pred,average='macro')\n",
    "    f1 = f1_score(y_true, y_pred,average='macro')\n",
    "\n",
    "    return accuracy, precision, recall, f1"
   ]
  },
  {
   "cell_type": "code",
   "execution_count": 47,
   "id": "9294c0c2-3315-404a-87b0-736b49d61e5e",
   "metadata": {},
   "outputs": [],
   "source": [
    "# d = [\"Logistic Regression\",\"KNN\",\"Decision Tree\",\"Random Forest\",\"XGBoost\"] \n",
    "# # algorithms = {'functions':Logistic Regression,\"KNN\",\"Decision Tree\",\"Random Forest\",\"XGBoost\"}\n",
    "# algo = [build_log(),build_knn(),build_Dtree(),build_rand(),build_xgb()]\n",
    "\n",
    "# df_new = pd.DataFrame(d,columns =['names'])\n",
    "# df_new['algorithms'] = algorithms"
   ]
  },
  {
   "cell_type": "code",
   "execution_count": 48,
   "id": "988fbad8-166e-43c7-a06c-14584900c47c",
   "metadata": {},
   "outputs": [],
   "source": [
    "# df_new"
   ]
  },
  {
   "cell_type": "code",
   "execution_count": 49,
   "id": "86d52d7f-8a85-4abb-99b6-974b95614556",
   "metadata": {},
   "outputs": [],
   "source": [
    "# build_log()"
   ]
  },
  {
   "cell_type": "code",
   "execution_count": 50,
   "id": "21f8d81f-cdf8-42bf-a646-6aa5c1f05fc0",
   "metadata": {},
   "outputs": [],
   "source": [
    "# model_func[0]['func']()"
   ]
  },
  {
   "cell_type": "code",
   "execution_count": 51,
   "id": "b515ce9a-24e7-4dfa-97b3-13c9a617618e",
   "metadata": {},
   "outputs": [
    {
     "data": {
      "text/html": [
       "<div>\n",
       "<style scoped>\n",
       "    .dataframe tbody tr th:only-of-type {\n",
       "        vertical-align: middle;\n",
       "    }\n",
       "\n",
       "    .dataframe tbody tr th {\n",
       "        vertical-align: top;\n",
       "    }\n",
       "\n",
       "    .dataframe thead th {\n",
       "        text-align: right;\n",
       "    }\n",
       "</style>\n",
       "<table border=\"1\" class=\"dataframe\">\n",
       "  <thead>\n",
       "    <tr style=\"text-align: right;\">\n",
       "      <th></th>\n",
       "      <th>name</th>\n",
       "      <th>accuracy</th>\n",
       "      <th>recall</th>\n",
       "      <th>f1</th>\n",
       "    </tr>\n",
       "  </thead>\n",
       "  <tbody>\n",
       "    <tr>\n",
       "      <th>0</th>\n",
       "      <td>Logistic</td>\n",
       "      <td>0.925</td>\n",
       "      <td>0.869048</td>\n",
       "      <td>0.878005</td>\n",
       "    </tr>\n",
       "    <tr>\n",
       "      <th>1</th>\n",
       "      <td>KNN</td>\n",
       "      <td>0.175</td>\n",
       "      <td>0.147959</td>\n",
       "      <td>0.120600</td>\n",
       "    </tr>\n",
       "    <tr>\n",
       "      <th>2</th>\n",
       "      <td>Decision Tree</td>\n",
       "      <td>0.975</td>\n",
       "      <td>0.964286</td>\n",
       "      <td>0.959184</td>\n",
       "    </tr>\n",
       "    <tr>\n",
       "      <th>3</th>\n",
       "      <td>Random Forest</td>\n",
       "      <td>0.975</td>\n",
       "      <td>0.964286</td>\n",
       "      <td>0.959184</td>\n",
       "    </tr>\n",
       "    <tr>\n",
       "      <th>4</th>\n",
       "      <td>GBoost</td>\n",
       "      <td>0.975</td>\n",
       "      <td>0.964286</td>\n",
       "      <td>0.959184</td>\n",
       "    </tr>\n",
       "    <tr>\n",
       "      <th>5</th>\n",
       "      <td>XGBoost</td>\n",
       "      <td>0.975</td>\n",
       "      <td>0.964286</td>\n",
       "      <td>0.959184</td>\n",
       "    </tr>\n",
       "  </tbody>\n",
       "</table>\n",
       "</div>"
      ],
      "text/plain": [
       "            name  accuracy    recall        f1\n",
       "0       Logistic     0.925  0.869048  0.878005\n",
       "1            KNN     0.175  0.147959  0.120600\n",
       "2  Decision Tree     0.975  0.964286  0.959184\n",
       "3  Random Forest     0.975  0.964286  0.959184\n",
       "4         GBoost     0.975  0.964286  0.959184\n",
       "5        XGBoost     0.975  0.964286  0.959184"
      ]
     },
     "execution_count": 51,
     "metadata": {},
     "output_type": "execute_result"
    }
   ],
   "source": [
    "# create a list of functions\n",
    "model_functions = [\n",
    "    {\"name\": \"Logistic\", \"function\": build_log}, \n",
    "    {\"name\": \"KNN\", \"function\": build_knn},\n",
    "    {\"name\": \"Decision Tree\", \"function\": build_Dtree},\n",
    "     {\"name\": \"Random Forest\", \"function\": build_rand},\n",
    "     {\"name\": \"GBoost\", \"function\": build_gb},\n",
    "     {\"name\": \"XGBoost\", \"function\": build_xgb}\n",
    "    \n",
    "]\n",
    "\n",
    "# empty list to collect the modelwise report\n",
    "model_evaluation_report = []\n",
    "\n",
    "# iterate over the list, create model and evaluate the model\n",
    "for model_info in model_functions:\n",
    "    model = model_info[\"function\"]()\n",
    "    metrics = evaluate_model(model)\n",
    "    model_evaluation_report.append({\n",
    "        \"name\": model_info[\"name\"],\n",
    "        \"accuracy\": metrics[0],\n",
    "        # \"precision\": metrics[1], \n",
    "        \"recall\": metrics[2],\n",
    "        \"f1\": metrics[3]\n",
    "    })\n",
    "\n",
    "# create a data frame of the result\n",
    "df_result = pd.DataFrame(model_evaluation_report)\n",
    "df_result"
   ]
  },
  {
   "cell_type": "code",
   "execution_count": 52,
   "id": "bbc8dd59-90a7-4404-8fad-13a7a0431407",
   "metadata": {},
   "outputs": [],
   "source": [
    "Fert_dict = {'DAP and MOP' : 1, 'Good NPK' :2, 'MOP':3, 'Urea and DAP':4, 'Urea and MOP':5,\n",
    "       'Urea ':6, 'DAP':7}"
   ]
  },
  {
   "cell_type": "code",
   "execution_count": 53,
   "id": "bfae7214-798f-475c-817c-2cbf0844f238",
   "metadata": {},
   "outputs": [],
   "source": [
    "# def result():\n",
    "#     T = int(input(\"enter Temperature:\"))\n",
    "#     H = int(input(\"enter Humidity:\"))\n",
    "#     M = int(input(\"enter Moisture:\"))\n",
    "#     SOIL_TYPE = float(input(\"enter Soil type:\"))\n",
    "#     CROP_TYPE = float(input(\"enter Crop Type:\"))\n",
    "#     N = float(input(\"enter Sodium:\"))\n",
    "#     K = float(input(\"enter Potassium:\"))\n",
    "#     P = float(input(\"enter Phosphorous:\"))\n",
    "    \n",
    "#     output = model.predict([[T,H,M,SOIL_TYPE,N,K,P]])\n",
    "   \n",
    "    \n",
    "#     for i in d.values():\n",
    "#         if(output == i):\n",
    "#             keys = [k for k, i in d.items() if i == output]\n",
    "#     return (\"Recommended crop is : \",keys[0].upper())\n",
    "\n",
    "#     result()\n"
   ]
  },
  {
   "cell_type": "code",
   "execution_count": 55,
   "id": "b657aa54-ea0f-43d5-ba7d-1ebc545ce4d1",
   "metadata": {},
   "outputs": [
    {
     "data": {
      "text/plain": [
       "Index(['Temperature', 'Humidity', 'Rainfall', 'pH', 'N', 'P', 'K', 'Soil',\n",
       "       'Crop', 'Fertilizer'],\n",
       "      dtype='object')"
      ]
     },
     "execution_count": 55,
     "metadata": {},
     "output_type": "execute_result"
    }
   ],
   "source": [
    "df.columns"
   ]
  },
  {
   "cell_type": "code",
   "execution_count": 56,
   "id": "dd709a23-0421-4b0c-bb86-b4957183fda0",
   "metadata": {},
   "outputs": [],
   "source": [
    "# def result():\n",
    "#     T = int(input(\"enter Temperature:\"))\n",
    "#     H = int(input(\"enter Humidity:\"))\n",
    "#     R = int(input(\"enter Rainfall:\"))\n",
    "#     pH = float(input(\"enter pH:\"))\n",
    "#     N = float(input(\"enter N:\"))\n",
    "#     P= float(input(\"enter P:\"))\n",
    "#     K = float(input(\"enter K:\"))\n",
    "#     Soil = int(input(\"enter soil:\"))\n",
    "#     Crop = int(input(\"enter crop\"))\n",
    "    \n",
    "#     output = model.predict([[T,H,R,pH,N,P,K,Soil,Crop]])\n",
    "   \n",
    "    \n",
    "#     for i in Fert_dict.values():\n",
    "#         if(output == i):\n",
    "#             keys = [k for k, i in Fert_dict.items() if i == output]\n",
    "#     return (\"Recommended fertilizer : \",keys[0].upper())\n"
   ]
  },
  {
   "cell_type": "code",
   "execution_count": 57,
   "id": "fac5e44f-d33d-452d-8a08-d252cff7e1d3",
   "metadata": {},
   "outputs": [],
   "source": [
    "#result()"
   ]
  },
  {
   "cell_type": "code",
   "execution_count": 58,
   "id": "df638c7a-f965-4775-9207-9ac2ac33436d",
   "metadata": {},
   "outputs": [],
   "source": [
    "# Temperature\tHumidity\tRainfall\tpH\tN\tP\tK\tSoil\tCrop\tFertilizer"
   ]
  },
  {
   "cell_type": "code",
   "execution_count": 60,
   "id": "76ae4d64-10f7-4642-9d18-304d2c553ec7",
   "metadata": {},
   "outputs": [
    {
     "data": {
      "text/html": [
       "<style>#sk-container-id-3 {color: black;}#sk-container-id-3 pre{padding: 0;}#sk-container-id-3 div.sk-toggleable {background-color: white;}#sk-container-id-3 label.sk-toggleable__label {cursor: pointer;display: block;width: 100%;margin-bottom: 0;padding: 0.3em;box-sizing: border-box;text-align: center;}#sk-container-id-3 label.sk-toggleable__label-arrow:before {content: \"▸\";float: left;margin-right: 0.25em;color: #696969;}#sk-container-id-3 label.sk-toggleable__label-arrow:hover:before {color: black;}#sk-container-id-3 div.sk-estimator:hover label.sk-toggleable__label-arrow:before {color: black;}#sk-container-id-3 div.sk-toggleable__content {max-height: 0;max-width: 0;overflow: hidden;text-align: left;background-color: #f0f8ff;}#sk-container-id-3 div.sk-toggleable__content pre {margin: 0.2em;color: black;border-radius: 0.25em;background-color: #f0f8ff;}#sk-container-id-3 input.sk-toggleable__control:checked~div.sk-toggleable__content {max-height: 200px;max-width: 100%;overflow: auto;}#sk-container-id-3 input.sk-toggleable__control:checked~label.sk-toggleable__label-arrow:before {content: \"▾\";}#sk-container-id-3 div.sk-estimator input.sk-toggleable__control:checked~label.sk-toggleable__label {background-color: #d4ebff;}#sk-container-id-3 div.sk-label input.sk-toggleable__control:checked~label.sk-toggleable__label {background-color: #d4ebff;}#sk-container-id-3 input.sk-hidden--visually {border: 0;clip: rect(1px 1px 1px 1px);clip: rect(1px, 1px, 1px, 1px);height: 1px;margin: -1px;overflow: hidden;padding: 0;position: absolute;width: 1px;}#sk-container-id-3 div.sk-estimator {font-family: monospace;background-color: #f0f8ff;border: 1px dotted black;border-radius: 0.25em;box-sizing: border-box;margin-bottom: 0.5em;}#sk-container-id-3 div.sk-estimator:hover {background-color: #d4ebff;}#sk-container-id-3 div.sk-parallel-item::after {content: \"\";width: 100%;border-bottom: 1px solid gray;flex-grow: 1;}#sk-container-id-3 div.sk-label:hover label.sk-toggleable__label {background-color: #d4ebff;}#sk-container-id-3 div.sk-serial::before {content: \"\";position: absolute;border-left: 1px solid gray;box-sizing: border-box;top: 0;bottom: 0;left: 50%;z-index: 0;}#sk-container-id-3 div.sk-serial {display: flex;flex-direction: column;align-items: center;background-color: white;padding-right: 0.2em;padding-left: 0.2em;position: relative;}#sk-container-id-3 div.sk-item {position: relative;z-index: 1;}#sk-container-id-3 div.sk-parallel {display: flex;align-items: stretch;justify-content: center;background-color: white;position: relative;}#sk-container-id-3 div.sk-item::before, #sk-container-id-3 div.sk-parallel-item::before {content: \"\";position: absolute;border-left: 1px solid gray;box-sizing: border-box;top: 0;bottom: 0;left: 50%;z-index: -1;}#sk-container-id-3 div.sk-parallel-item {display: flex;flex-direction: column;z-index: 1;position: relative;background-color: white;}#sk-container-id-3 div.sk-parallel-item:first-child::after {align-self: flex-end;width: 50%;}#sk-container-id-3 div.sk-parallel-item:last-child::after {align-self: flex-start;width: 50%;}#sk-container-id-3 div.sk-parallel-item:only-child::after {width: 0;}#sk-container-id-3 div.sk-dashed-wrapped {border: 1px dashed gray;margin: 0 0.4em 0.5em 0.4em;box-sizing: border-box;padding-bottom: 0.4em;background-color: white;}#sk-container-id-3 div.sk-label label {font-family: monospace;font-weight: bold;display: inline-block;line-height: 1.2em;}#sk-container-id-3 div.sk-label-container {text-align: center;}#sk-container-id-3 div.sk-container {/* jupyter's `normalize.less` sets `[hidden] { display: none; }` but bootstrap.min.css set `[hidden] { display: none !important; }` so we also need the `!important` here to be able to override the default hidden behavior on the sphinx rendered scikit-learn.org. See: https://github.com/scikit-learn/scikit-learn/issues/21755 */display: inline-block !important;position: relative;}#sk-container-id-3 div.sk-text-repr-fallback {display: none;}</style><div id=\"sk-container-id-3\" class=\"sk-top-container\"><div class=\"sk-text-repr-fallback\"><pre>XGBClassifier(base_score=None, booster=None, callbacks=None,\n",
       "              colsample_bylevel=None, colsample_bynode=None,\n",
       "              colsample_bytree=None, device=None, early_stopping_rounds=None,\n",
       "              enable_categorical=False, eval_metric=None, feature_types=None,\n",
       "              gamma=None, grow_policy=None, importance_type=None,\n",
       "              interaction_constraints=None, learning_rate=0.1, max_bin=None,\n",
       "              max_cat_threshold=None, max_cat_to_onehot=None,\n",
       "              max_delta_step=None, max_depth=None, max_leaves=None,\n",
       "              min_child_weight=None, missing=nan, monotone_constraints=None,\n",
       "              multi_strategy=None, n_estimators=200, n_jobs=None,\n",
       "              num_parallel_tree=None, objective=&#x27;multi:softprob&#x27;, ...)</pre><b>In a Jupyter environment, please rerun this cell to show the HTML representation or trust the notebook. <br />On GitHub, the HTML representation is unable to render, please try loading this page with nbviewer.org.</b></div><div class=\"sk-container\" hidden><div class=\"sk-item\"><div class=\"sk-estimator sk-toggleable\"><input class=\"sk-toggleable__control sk-hidden--visually\" id=\"sk-estimator-id-3\" type=\"checkbox\" checked><label for=\"sk-estimator-id-3\" class=\"sk-toggleable__label sk-toggleable__label-arrow\">XGBClassifier</label><div class=\"sk-toggleable__content\"><pre>XGBClassifier(base_score=None, booster=None, callbacks=None,\n",
       "              colsample_bylevel=None, colsample_bynode=None,\n",
       "              colsample_bytree=None, device=None, early_stopping_rounds=None,\n",
       "              enable_categorical=False, eval_metric=None, feature_types=None,\n",
       "              gamma=None, grow_policy=None, importance_type=None,\n",
       "              interaction_constraints=None, learning_rate=0.1, max_bin=None,\n",
       "              max_cat_threshold=None, max_cat_to_onehot=None,\n",
       "              max_delta_step=None, max_depth=None, max_leaves=None,\n",
       "              min_child_weight=None, missing=nan, monotone_constraints=None,\n",
       "              multi_strategy=None, n_estimators=200, n_jobs=None,\n",
       "              num_parallel_tree=None, objective=&#x27;multi:softprob&#x27;, ...)</pre></div></div></div></div></div>"
      ],
      "text/plain": [
       "XGBClassifier(base_score=None, booster=None, callbacks=None,\n",
       "              colsample_bylevel=None, colsample_bynode=None,\n",
       "              colsample_bytree=None, device=None, early_stopping_rounds=None,\n",
       "              enable_categorical=False, eval_metric=None, feature_types=None,\n",
       "              gamma=None, grow_policy=None, importance_type=None,\n",
       "              interaction_constraints=None, learning_rate=0.1, max_bin=None,\n",
       "              max_cat_threshold=None, max_cat_to_onehot=None,\n",
       "              max_delta_step=None, max_depth=None, max_leaves=None,\n",
       "              min_child_weight=None, missing=nan, monotone_constraints=None,\n",
       "              multi_strategy=None, n_estimators=200, n_jobs=None,\n",
       "              num_parallel_tree=None, objective='multi:softprob', ...)"
      ]
     },
     "execution_count": 60,
     "metadata": {},
     "output_type": "execute_result"
    }
   ],
   "source": [
    "model = XGBClassifier(n_estimators = 200,learning_rate = 0.1,verbose = False)\n",
    "model.fit(xtr,ytr)"
   ]
  },
  {
   "cell_type": "code",
   "execution_count": 61,
   "id": "c58abe2e-3639-4959-a51c-0c188355c6af",
   "metadata": {},
   "outputs": [],
   "source": [
    "import pickle\n",
    "with open('./Fertilizer.pkl', 'wb') as file:\n",
    "    pickle.dump(model, file)"
   ]
  },
  {
   "cell_type": "code",
   "execution_count": null,
   "id": "4d089717-cd23-4e91-b34a-162894b20f8e",
   "metadata": {},
   "outputs": [],
   "source": []
  },
  {
   "cell_type": "code",
   "execution_count": null,
   "id": "b77b3f50-5216-47ff-9f41-8515bb0bec6a",
   "metadata": {},
   "outputs": [],
   "source": []
  }
 ],
 "metadata": {
  "kernelspec": {
   "display_name": "Python 3 (ipykernel)",
   "language": "python",
   "name": "python3"
  },
  "language_info": {
   "codemirror_mode": {
    "name": "ipython",
    "version": 3
   },
   "file_extension": ".py",
   "mimetype": "text/x-python",
   "name": "python",
   "nbconvert_exporter": "python",
   "pygments_lexer": "ipython3",
   "version": "3.10.12"
  }
 },
 "nbformat": 4,
 "nbformat_minor": 5
}
